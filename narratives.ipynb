{
 "cells": [
  {
   "cell_type": "markdown",
   "metadata": {
    "citation-manager": {
     "citations": {
      "": []
     }
    },
    "tags": [
     "title"
    ]
   },
   "source": [
    "# imagineRio Narratives: A Map-based Storytelling Platform for Rio de Janeiro"
   ]
  },
  {
   "cell_type": "markdown",
   "metadata": {
    "tags": [
     "contributor"
    ]
   },
   "source": [
    " ### Alida C.  Metcalf [![orcid](https://orcid.org/sites/default/files/images/orcid_16x16.png)](https://orcid.org/0000-0001-8175-8339) \n",
    "Rice University"
   ]
  },
  {
   "cell_type": "markdown",
   "metadata": {
    "tags": [
     "contributor"
    ]
   },
   "source": [
    "### David  Heyman [![orcid](https://orcid.org/sites/default/files/images/orcid_16x16.png)](https://orcid.org/0000-0003-2727-5111) \n",
    "Axis Maps"
   ]
  },
  {
   "cell_type": "markdown",
   "metadata": {
    "tags": [
     "contributor"
    ]
   },
   "source": [
    "### Bruno  Buccalon [![orcid](https://orcid.org/sites/default/files/images/orcid_16x16.png)](https://orcid.org/0000-0002-6463-936X) \n",
    "Rice University"
   ]
  },
  {
   "cell_type": "markdown",
   "metadata": {
    "tags": [
     "copyright"
    ]
   },
   "source": [
    "[![cc-by-nc-nd](https://licensebuttons.net/l/by-nc-nd/4.0/88x31.png)](https://creativecommons.org/licenses/by-nc-nd/4.0/) \n",
    "© Alida C. Metcalf, David Heyman, and Bruno Buccalon. Published by De Gruyter in cooperation with the University of Luxembourg Centre for Contemporary and Digital History. This is an Open Access article distributed under the terms of the [Creative Commons Attribution License CC-BY-NC-ND](https://creativecommons.org/licenses/by-nc-nd/4.0/)\n"
   ]
  },
  {
   "cell_type": "markdown",
   "metadata": {
    "tags": [
     "disclaimer"
    ]
   },
   "source": [
    "An draft version of this paper was presented at the Social Science History Association Annual Meeting in Philadelphia, November 12, 2021."
   ]
  },
  {
   "cell_type": "markdown",
   "metadata": {
    "tags": [
     "keywords"
    ]
   },
   "source": [
    "HGIS, Storytelling, Urban History, Rio de Janeiro"
   ]
  },
  {
   "cell_type": "markdown",
   "metadata": {
    "tags": [
     "abstract"
    ]
   },
   "source": [
    "imagineRio Narratives is a map-based storytelling application custom designed for imagineRio, a spatial history platform about the city of Rio de Janeiro. Integrated with an online Historical Geographic Information System (HGIS) built for shared research and scholarship, Rio Narratives offers an elegant environment for writing digital publications related to the urban history of Rio. Leveraging the microservices architecture of imagineRio, the application encourages its users to engage with transmedia storytelling through a simplified interface that does not require GIS expertise or knowledge of the intricacies of spatial data acquisition. This open-source project gives all users access to imagineRio’s temporally accurate basemap, as well as to its curated primary sources--georeferenced historical maps and urban plans. In this article, the narrative layer discusses how the idea for Rio Narratives developed from our past experiences with ESRI StoryMaps. It also discusses how the Covid-19 pandemic (severe in both the US and Brazil) shaped our development process, as we recognized the urgent need to engage meaningfully with a community of early adopters based in Rio. The hermeneutics layer discusses the conception and development choices around the narratives editor, which enables users to write in connection with our digital atlas. In this section we introduce how users can organize their content on cards associated with specific locations and points in time. Finally, the data layer presents the source code of Rio Narratives editor. In this layer we look forward to working with JDH’s editors to leverage how to best share a [JavaScript project](https://github.com/imaginerio/narratives) within the journal’s Python-based coding environment."
   ]
  },
  {
   "cell_type": "markdown",
   "metadata": {},
   "source": [
    "## Introduction"
   ]
  },
  {
   "cell_type": "markdown",
   "metadata": {},
   "source": [
    "This is the first paragrah of running text"
   ]
  }
 ],
 "metadata": {
  "celltoolbar": "Tags",
  "citation-manager": {
   "items": {}
  },
  "cite2c": {
   "citations": {
    "8918850/TJEII8VI": {
     "URL": "https://gout-numerique.net/",
     "abstract": "En 1989, Arlette Farge publie Le goût de l’archive. Elle y décrit ce que tout·e historien·ne a pu vivre en centre d’archives : une relation très intime à nos sources primaires - relation indirecte aux…",
     "accessed": {
      "day": 28,
      "month": 9,
      "year": 2021
     },
     "editor": [
      {
       "family": "Muller",
       "given": "Caroline"
      },
      {
       "family": "Clavert",
       "given": "Frédéric"
      }
     ],
     "id": "8918850/TJEII8VI",
     "issued": {
      "year": 2017
     },
     "language": "fr-FR",
     "title": "Le goût de l'archive à l'ère numérique",
     "type": "book"
    },
    "9112711/NTEXEY3I": {
     "abstract": "General language resources are often more easily available for NLP applications. When using them to process specialized texts it might be useful to adapt them to these texts. This paper describes experiments in adapting general language synonymous resources to the medical domain. A set of ﬁltering methods through a domain corpora is applied. Original and ﬁltered synonyms are then used for normalizing term variation in a terminology structuring task. Their relative contributions are evaluated in comparison with the original structure of the reference terminology. This evaluation shows that the overall results are encouraging, as for the terminology structuring task : improvement of precision while recall is slightly decreased.",
     "author": [
      {
       "family": "Grabar",
       "given": "Natalia"
      },
      {
       "family": "Zweigenbaum",
       "given": "Pierre"
      }
     ],
     "event": "TALN 2005",
     "event-place": "Dourdan",
     "id": "9112711/NTEXEY3I",
     "issued": {
      "season": "10 juin",
      "year": 2005
     },
     "language": "fr",
     "page": "81-90",
     "page-first": "81",
     "publisher-place": "Dourdan",
     "title": "Utilisation de corpus de spécialité pour le ﬁltrage de synonymes de la langue générale",
     "type": "paper-conference"
    }
   }
  },
  "kernelspec": {
   "display_name": "Python 3",
   "language": "python",
   "name": "python3"
  },
  "language_info": {
   "codemirror_mode": {
    "name": "ipython",
    "version": 3
   },
   "file_extension": ".py",
   "mimetype": "text/x-python",
   "name": "python",
   "nbconvert_exporter": "python",
   "pygments_lexer": "ipython3",
   "version": "3.7.10"
  },
  "toc": {
   "base_numbering": 1,
   "nav_menu": {},
   "number_sections": true,
   "sideBar": true,
   "skip_h1_title": false,
   "title_cell": "Table of Contents",
   "title_sidebar": "Contents",
   "toc_cell": false,
   "toc_position": {},
   "toc_section_display": true,
   "toc_window_display": false
  }
 },
 "nbformat": 4,
 "nbformat_minor": 4
}
